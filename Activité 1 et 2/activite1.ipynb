{
 "cells": [
  {
   "cell_type": "markdown",
   "metadata": {},
   "source": [
    "Activité 1"
   ]
  },
  {
   "cell_type": "code",
   "execution_count": 1,
   "metadata": {},
   "outputs": [],
   "source": [
    "import matplotlib.pyplot as plt\n",
    "import numpy as np"
   ]
  },
  {
   "cell_type": "code",
   "execution_count": 3,
   "metadata": {},
   "outputs": [],
   "source": [
    "def coutglobal(fixe, variable, x):\n",
    "    cout_global = fixe + variable * x\n",
    "    return cout_global"
   ]
  },
  {
   "cell_type": "code",
   "execution_count": null,
   "metadata": {},
   "outputs": [],
   "source": [
    "fixe = 1000\n",
    "variable = 50\n",
    "quantites = np.linspace(0, 100, 500)\n",
    "\n",
    "couts = coutglobal(fixe, variable, quantites)\n",
    "\n",
    "plt.figure(figsize=(10, 6))\n",
    "plt.plot(quantites, couts, label=f\"Coût global (fixe={fixe}, variable={variable})\")\n",
    "plt.title(\"Graphique du coût global en fonction du nombre de produits\")\n",
    "plt.xlabel(\"Nombre de produits\")\n",
    "plt.ylabel(\"Coût global\")\n",
    "plt.legend()\n",
    "plt.grid(True)\n",
    "plt.show()"
   ]
  },
  {
   "cell_type": "markdown",
   "metadata": {},
   "source": [
    "Activité 2"
   ]
  },
  {
   "cell_type": "code",
   "execution_count": 42,
   "metadata": {},
   "outputs": [],
   "source": [
    "import numpy as np"
   ]
  },
  {
   "cell_type": "markdown",
   "metadata": {},
   "source": [
    "Les fonctions numpy sont @ et np.dot"
   ]
  },
  {
   "cell_type": "markdown",
   "metadata": {},
   "source": [
    "Non, la multiplication matrice-vecteur ne fonctionne pas dans les deux sens. Car le nombre de colonnes est de lignes sont différents."
   ]
  },
  {
   "cell_type": "markdown",
   "metadata": {},
   "source": [
    "La fonction pour trouver l'inverse est np.linalg.inv"
   ]
  },
  {
   "cell_type": "code",
   "execution_count": 43,
   "metadata": {},
   "outputs": [
    {
     "name": "stdout",
     "output_type": "stream",
     "text": [
      "[[ 90250]\n",
      " [-35950]]\n"
     ]
    }
   ],
   "source": [
    "A = np.array([[10, 5], [-4, 1]])\n",
    "b = np.array([[9000], [50]])\n",
    "\n",
    "C = A @ b\n",
    "print(C)"
   ]
  },
  {
   "cell_type": "code",
   "execution_count": 44,
   "metadata": {},
   "outputs": [
    {
     "name": "stdout",
     "output_type": "stream",
     "text": [
      "[[ 0.03333333 -0.16666667]\n",
      " [ 0.13333333  0.33333333]]\n"
     ]
    }
   ],
   "source": [
    "print(np.linalg.inv(A))"
   ]
  },
  {
   "cell_type": "code",
   "execution_count": 45,
   "metadata": {},
   "outputs": [
    {
     "name": "stdout",
     "output_type": "stream",
     "text": [
      "[[ 291.67]\n",
      " [1216.67]]\n"
     ]
    }
   ],
   "source": [
    "u = np.linalg.inv(A)@b\n",
    "\n",
    "u_rounded = np.round(u, 2)\n",
    "\n",
    "print(u_rounded)"
   ]
  },
  {
   "cell_type": "markdown",
   "metadata": {},
   "source": [
    "Activité 3"
   ]
  },
  {
   "cell_type": "code",
   "execution_count": 66,
   "metadata": {},
   "outputs": [],
   "source": [
    "#def resolve(A, b):\n",
    "#    u = np.linalg.inv(A) @ b\n",
    "#    return u"
   ]
  },
  {
   "cell_type": "code",
   "execution_count": 88,
   "metadata": {},
   "outputs": [],
   "source": [
    "num_problems = 1000\n",
    "\n",
    "solutions_found = 0\n",
    "non_invertible_count = 0\n",
    "\n",
    "for i in range(num_problems):\n",
    "    A = np.random.randint(-10, 10, (2, 2)).astype(float)\n",
    "    \n",
    "    if np.linalg.det(A) == 0:\n",
    "        non_invertible_count += 1\n",
    "        \n",
    "    # else:\n",
    "    #     b = np.random.randint(-10, 10, (2, 1)).astype(float)\n",
    "        \n",
    "    #     u_rounded = resolve(A, b)\n",
    "    #     solutions_found += 1"
   ]
  },
  {
   "cell_type": "code",
   "execution_count": 89,
   "metadata": {},
   "outputs": [
    {
     "name": "stdout",
     "output_type": "stream",
     "text": [
      "Bilan :\n",
      "Pourcentage de matrices non inversibles : 2.5 %\n"
     ]
    }
   ],
   "source": [
    "print(f\"Bilan :\")\n",
    "# print(f\"Nombre de solutions trouvées : {solutions_found}\")\n",
    "print(f\"Pourcentage de matrices non inversibles : {round(non_invertible_count/num_problems*100, 2)} %\")"
   ]
  },
  {
   "cell_type": "code",
   "execution_count": 64,
   "metadata": {},
   "outputs": [
    {
     "name": "stdout",
     "output_type": "stream",
     "text": [
      "Problème 389:\n",
      "A =\n",
      "[[3. 3.]\n",
      " [1. 1.]]\n",
      "b =\n",
      "[[-7.]\n",
      " [-1.]]\n",
      "x (solution) =\n",
      "[[0.64]\n",
      " [0.2 ]]\n",
      "------------------------------\n"
     ]
    }
   ],
   "source": [
    "print(f\"Problème {i+1}:\")\n",
    "print(f\"A =\\n{A}\")\n",
    "print(f\"b =\\n{b}\")\n",
    "print(f\"x (solution) =\\n{u_rounded}\")\n",
    "print(\"-\" * 30)"
   ]
  },
  {
   "cell_type": "markdown",
   "metadata": {},
   "source": [
    "Code modulable"
   ]
  },
  {
   "cell_type": "code",
   "execution_count": 18,
   "metadata": {},
   "outputs": [],
   "source": [
    "import numpy as np"
   ]
  },
  {
   "cell_type": "code",
   "execution_count": 17,
   "metadata": {},
   "outputs": [],
   "source": [
    "def generate_problems(num_problems=1000, matrix_size=(2, 2), value_range=(-10, 10)):\n",
    "    non_invertible_count = 0\n",
    "\n",
    "    for _ in range(num_problems):\n",
    "        A = np.random.randint(value_range[0], value_range[1], matrix_size).astype(float)\n",
    "        \n",
    "        if np.linalg.det(A) == 0:\n",
    "            non_invertible_count += 1\n",
    "\n",
    "    percentage_non_invertible = (non_invertible_count / num_problems) * 100\n",
    "\n",
    "    print(f\"Bilan :\")\n",
    "    print(f\"Nombre total de problèmes générés : {num_problems}\")\n",
    "    print(f\"Nombre de matrices non inversibles : {non_invertible_count}\")\n",
    "    print(f\"Pourcentage de matrices non inversibles : {round(percentage_non_invertible, 2)} %\")"
   ]
  },
  {
   "cell_type": "code",
   "execution_count": 19,
   "metadata": {},
   "outputs": [
    {
     "name": "stdout",
     "output_type": "stream",
     "text": [
      "Bilan :\n",
      "Nombre total de problèmes générés : 1000\n",
      "Nombre de matrices non inversibles : 57\n",
      "Pourcentage de matrices non inversibles : 5.7 %\n"
     ]
    }
   ],
   "source": [
    "generate_problems(num_problems=1000, matrix_size=(2, 2), value_range=(-5, 5))"
   ]
  },
  {
   "cell_type": "markdown",
   "metadata": {},
   "source": [
    "Activité 4"
   ]
  },
  {
   "cell_type": "code",
   "execution_count": 93,
   "metadata": {},
   "outputs": [],
   "source": [
    "A = np.array([[1, 2, -1, 3, 2], [2, -1, 3, -1, 1], [-1, 3, 2, 2, -3], [1, -1, 1, 2, 3], [1, 4, -1,3,1]]).T\n",
    "b = np.array([[8], [15], [7], [20], [5]])"
   ]
  },
  {
   "cell_type": "code",
   "execution_count": 94,
   "metadata": {},
   "outputs": [
    {
     "name": "stdout",
     "output_type": "stream",
     "text": [
      "-62.000000000000064\n"
     ]
    }
   ],
   "source": [
    "print(np.linalg.det(A))"
   ]
  },
  {
   "cell_type": "code",
   "execution_count": 95,
   "metadata": {},
   "outputs": [
    {
     "name": "stdout",
     "output_type": "stream",
     "text": [
      "[[56]\n",
      " [22]\n",
      " [66]\n",
      " [78]\n",
      " [75]]\n"
     ]
    }
   ],
   "source": [
    "C = A @ b\n",
    "print(C)"
   ]
  },
  {
   "cell_type": "markdown",
   "metadata": {},
   "source": [
    "Activité 5 : Simplexe (utilisation de scipy)"
   ]
  },
  {
   "cell_type": "code",
   "execution_count": 20,
   "metadata": {},
   "outputs": [
    {
     "name": "stdout",
     "output_type": "stream",
     "text": [
      "Solution optimale trouvée :\n",
      "Nombre d'unités de produit A (x1) : 6.40\n",
      "Nombre d'unités de produit B (x2) : 4.80\n",
      "Profit total maximal : 288.00 €\n"
     ]
    }
   ],
   "source": [
    "from scipy.optimize import linprog\n",
    "\n",
    "c = [-30, -20]\n",
    "\n",
    "A = [\n",
    "    [1, 2], \n",
    "    [3, 1]\n",
    "]\n",
    "b = [16, 24]\n",
    "\n",
    "x_bounds = (0, None)\n",
    "y_bounds = (0, None)\n",
    "\n",
    "result = linprog(c, A_ub=A, b_ub=b, bounds=[x_bounds, y_bounds], method='highs')\n",
    "\n",
    "if result.success:\n",
    "    print(\"Solution optimale trouvée :\")\n",
    "    print(f\"Nombre d'unités de produit A (x1) : {result.x[0]:.2f}\")\n",
    "    print(f\"Nombre d'unités de produit B (x2) : {result.x[1]:.2f}\")\n",
    "    print(f\"Profit total maximal : {-result.fun:.2f} €\")\n",
    "else:\n",
    "    print(\"La résolution a échoué.\")"
   ]
  },
  {
   "cell_type": "code",
   "execution_count": null,
   "metadata": {},
   "outputs": [
    {
     "data": {
      "image/png": "[encoded data removed]",
      "text/plain": [
       "<Figure size 1000x600 with 1 Axes>"
      ]
     },
     "metadata": {},
     "output_type": "display_data"
    }
   ],
   "source": [
    "x = np.linspace(0, 10, 500)\n",
    "y1 = (16 - x) / 2\n",
    "y2 = 24 - 3 * x\n",
    "\n",
    "plt.figure(figsize=(10, 6))\n",
    "\n",
    "plt.plot(x, y1, label=\"Machine X: x1 + 2x2 <= 16\", color='blue')\n",
    "plt.plot(x, y2, label=\"Machine Y: 3x1 + x2 <= 24\", color='orange')\n",
    "\n",
    "plt.fill_between(x, np.minimum(y1, y2), 0, where=(np.minimum(y1, y2) >= 0), color='gray', alpha=0.3, label=\"Zone faisable\")\n",
    "\n",
    "if result.success:\n",
    "    plt.scatter(result.x[0], result.x[1], color='red', label=\"Solution optimale\", zorder=5)\n",
    "    plt.text(result.x[0], result.x[1], f\"  ({result.x[0]:.2f}, {result.x[1]:.2f})\", color='red')\n",
    "\n",
    "plt.title(\"Résolution du problème du simplexe\")\n",
    "plt.xlabel(\"Nombre d'unités de produit A (x1)\")\n",
    "plt.ylabel(\"Nombre d'unités de produit B (x2)\")\n",
    "plt.xlim(0, 10)\n",
    "plt.ylim(0, 10)\n",
    "plt.axhline(0, color='black', linewidth=0.8)\n",
    "plt.axvline(0, color='black', linewidth=0.8)\n",
    "plt.legend()\n",
    "plt.grid(True)\n",
    "\n",
    "plt.show()"
   ]
  }
 ],
 "metadata": {
  "kernelspec": {
   "display_name": "math_env",
   "language": "python",
   "name": "python3"
  },
  "language_info": {
   "codemirror_mode": {
    "name": "ipython",
    "version": 3
   },
   "file_extension": ".py",
   "mimetype": "text/x-python",
   "name": "python",
   "nbconvert_exporter": "python",
   "pygments_lexer": "ipython3",
   "version": "3.12.5"
  }
 },
 "nbformat": 4,
 "nbformat_minor": 2
}
